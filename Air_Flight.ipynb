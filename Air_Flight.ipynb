{
 "cells": [
  {
   "cell_type": "markdown",
   "metadata": {},
   "source": [
    "## 1. Importing Libraries & Data Understanding"
   ]
  },
  {
   "cell_type": "code",
   "execution_count": 1,
   "metadata": {},
   "outputs": [
    {
     "name": "stderr",
     "output_type": "stream",
     "text": [
      "C:\\Users\\moham\\anaconda3\\envs\\NEWENV\\lib\\site-packages\\numpy\\_distributor_init.py:30: UserWarning: loaded more than 1 DLL from .libs:\n",
      "C:\\Users\\moham\\anaconda3\\envs\\NEWENV\\lib\\site-packages\\numpy\\.libs\\libopenblas.FB5AE2TYXYH2IJRDKGDGQ3XBKLKTF43H.gfortran-win_amd64.dll\n",
      "C:\\Users\\moham\\anaconda3\\envs\\NEWENV\\lib\\site-packages\\numpy\\.libs\\libopenblas64__v0.3.21-gcc_10_3_0.dll\n",
      "  warnings.warn(\"loaded more than 1 DLL from .libs:\"\n"
     ]
    }
   ],
   "source": [
    "import numpy as np\n",
    "import pandas as pd\n",
    "import plotly.express as px\n",
    "import plotly.graph_objects as go\n",
    "from sklearn.compose import ColumnTransformer\n",
    "from sklearn.pipeline import Pipeline\n",
    "from sklearn.model_selection import cross_validate, KFold, GridSearchCV\n",
    "from sklearn.preprocessing import OneHotEncoder, StandardScaler, RobustScaler\n",
    "from category_encoders import BinaryEncoder\n",
    "from sklearn.linear_model import LinearRegression # for modeling\n",
    "from sklearn.ensemble import RandomForestRegressor\n",
    "from sklearn.neighbors import KNeighborsRegressor\n",
    "from sklearn.tree import DecisionTreeRegressor\n",
    "from xgboost import XGBRegressor\n",
    "import joblib"
   ]
  },
  {
   "cell_type": "code",
   "execution_count": 2,
   "metadata": {},
   "outputs": [],
   "source": [
    "df_train = pd.read_excel('Train.xlsx')\n",
    "df_test = pd.read_excel('Test.xlsx')"
   ]
  },
  {
   "cell_type": "code",
   "execution_count": 3,
   "metadata": {},
   "outputs": [],
   "source": [
    "df = pd.concat([df_train, df_test])"
   ]
  },
  {
   "cell_type": "code",
   "execution_count": 4,
   "metadata": {},
   "outputs": [
    {
     "name": "stdout",
     "output_type": "stream",
     "text": [
      "(13354, 11)\n"
     ]
    },
    {
     "data": {
      "text/html": [
       "<div>\n",
       "<style scoped>\n",
       "    .dataframe tbody tr th:only-of-type {\n",
       "        vertical-align: middle;\n",
       "    }\n",
       "\n",
       "    .dataframe tbody tr th {\n",
       "        vertical-align: top;\n",
       "    }\n",
       "\n",
       "    .dataframe thead th {\n",
       "        text-align: right;\n",
       "    }\n",
       "</style>\n",
       "<table border=\"1\" class=\"dataframe\">\n",
       "  <thead>\n",
       "    <tr style=\"text-align: right;\">\n",
       "      <th></th>\n",
       "      <th>Airline</th>\n",
       "      <th>Date_of_Journey</th>\n",
       "      <th>Source</th>\n",
       "      <th>Destination</th>\n",
       "      <th>Route</th>\n",
       "      <th>Dep_Time</th>\n",
       "      <th>Arrival_Time</th>\n",
       "      <th>Duration</th>\n",
       "      <th>Total_Stops</th>\n",
       "      <th>Additional_Info</th>\n",
       "      <th>Price</th>\n",
       "    </tr>\n",
       "  </thead>\n",
       "  <tbody>\n",
       "    <tr>\n",
       "      <th>0</th>\n",
       "      <td>IndiGo</td>\n",
       "      <td>24/03/2019</td>\n",
       "      <td>Banglore</td>\n",
       "      <td>New Delhi</td>\n",
       "      <td>BLR → DEL</td>\n",
       "      <td>22:20</td>\n",
       "      <td>01:10 22 Mar</td>\n",
       "      <td>2h 50m</td>\n",
       "      <td>non-stop</td>\n",
       "      <td>No info</td>\n",
       "      <td>3897.0</td>\n",
       "    </tr>\n",
       "    <tr>\n",
       "      <th>1</th>\n",
       "      <td>Air India</td>\n",
       "      <td>1/05/2019</td>\n",
       "      <td>Kolkata</td>\n",
       "      <td>Banglore</td>\n",
       "      <td>CCU → IXR → BBI → BLR</td>\n",
       "      <td>05:50</td>\n",
       "      <td>13:15</td>\n",
       "      <td>7h 25m</td>\n",
       "      <td>2 stops</td>\n",
       "      <td>No info</td>\n",
       "      <td>7662.0</td>\n",
       "    </tr>\n",
       "    <tr>\n",
       "      <th>2</th>\n",
       "      <td>Jet Airways</td>\n",
       "      <td>9/06/2019</td>\n",
       "      <td>Delhi</td>\n",
       "      <td>Cochin</td>\n",
       "      <td>DEL → LKO → BOM → COK</td>\n",
       "      <td>09:25</td>\n",
       "      <td>04:25 10 Jun</td>\n",
       "      <td>19h</td>\n",
       "      <td>2 stops</td>\n",
       "      <td>No info</td>\n",
       "      <td>13882.0</td>\n",
       "    </tr>\n",
       "  </tbody>\n",
       "</table>\n",
       "</div>"
      ],
      "text/plain": [
       "       Airline Date_of_Journey    Source Destination                  Route  \\\n",
       "0       IndiGo      24/03/2019  Banglore   New Delhi              BLR → DEL   \n",
       "1    Air India       1/05/2019   Kolkata    Banglore  CCU → IXR → BBI → BLR   \n",
       "2  Jet Airways       9/06/2019     Delhi      Cochin  DEL → LKO → BOM → COK   \n",
       "\n",
       "  Dep_Time  Arrival_Time Duration Total_Stops Additional_Info    Price  \n",
       "0    22:20  01:10 22 Mar   2h 50m    non-stop         No info   3897.0  \n",
       "1    05:50         13:15   7h 25m     2 stops         No info   7662.0  \n",
       "2    09:25  04:25 10 Jun      19h     2 stops         No info  13882.0  "
      ]
     },
     "execution_count": 4,
     "metadata": {},
     "output_type": "execute_result"
    }
   ],
   "source": [
    "print(df.shape)\n",
    "df.head(3)"
   ]
  },
  {
   "cell_type": "code",
   "execution_count": 5,
   "metadata": {},
   "outputs": [
    {
     "name": "stdout",
     "output_type": "stream",
     "text": [
      "<class 'pandas.core.frame.DataFrame'>\n",
      "Int64Index: 13354 entries, 0 to 2670\n",
      "Data columns (total 11 columns):\n",
      " #   Column           Non-Null Count  Dtype  \n",
      "---  ------           --------------  -----  \n",
      " 0   Airline          13354 non-null  object \n",
      " 1   Date_of_Journey  13354 non-null  object \n",
      " 2   Source           13354 non-null  object \n",
      " 3   Destination      13354 non-null  object \n",
      " 4   Route            13353 non-null  object \n",
      " 5   Dep_Time         13354 non-null  object \n",
      " 6   Arrival_Time     13354 non-null  object \n",
      " 7   Duration         13354 non-null  object \n",
      " 8   Total_Stops      13353 non-null  object \n",
      " 9   Additional_Info  13354 non-null  object \n",
      " 10  Price            10683 non-null  float64\n",
      "dtypes: float64(1), object(10)\n",
      "memory usage: 1.2+ MB\n"
     ]
    }
   ],
   "source": [
    "df.info()"
   ]
  },
  {
   "cell_type": "markdown",
   "metadata": {},
   "source": [
    "## 2. Data Cleaning & Preparation"
   ]
  },
  {
   "cell_type": "markdown",
   "metadata": {},
   "source": [
    "### 2.1 Duplication and Null Handling"
   ]
  },
  {
   "cell_type": "code",
   "execution_count": 6,
   "metadata": {},
   "outputs": [
    {
     "data": {
      "text/plain": [
       "246"
      ]
     },
     "execution_count": 6,
     "metadata": {},
     "output_type": "execute_result"
    }
   ],
   "source": [
    "df.duplicated().sum()"
   ]
  },
  {
   "cell_type": "code",
   "execution_count": 7,
   "metadata": {},
   "outputs": [
    {
     "data": {
      "text/plain": [
       "0"
      ]
     },
     "execution_count": 7,
     "metadata": {},
     "output_type": "execute_result"
    }
   ],
   "source": [
    "df.drop_duplicates(inplace= True)\n",
    "df.dropna(inplace= True)\n",
    "df.reset_index(drop= True, inplace= True)\n",
    "df.duplicated().sum()"
   ]
  },
  {
   "cell_type": "code",
   "execution_count": 8,
   "metadata": {},
   "outputs": [
    {
     "name": "stdout",
     "output_type": "stream",
     "text": [
      "<class 'pandas.core.frame.DataFrame'>\n",
      "RangeIndex: 10462 entries, 0 to 10461\n",
      "Data columns (total 11 columns):\n",
      " #   Column           Non-Null Count  Dtype  \n",
      "---  ------           --------------  -----  \n",
      " 0   Airline          10462 non-null  object \n",
      " 1   Date_of_Journey  10462 non-null  object \n",
      " 2   Source           10462 non-null  object \n",
      " 3   Destination      10462 non-null  object \n",
      " 4   Route            10462 non-null  object \n",
      " 5   Dep_Time         10462 non-null  object \n",
      " 6   Arrival_Time     10462 non-null  object \n",
      " 7   Duration         10462 non-null  object \n",
      " 8   Total_Stops      10462 non-null  object \n",
      " 9   Additional_Info  10462 non-null  object \n",
      " 10  Price            10462 non-null  float64\n",
      "dtypes: float64(1), object(10)\n",
      "memory usage: 899.2+ KB\n"
     ]
    }
   ],
   "source": [
    "df.info()"
   ]
  },
  {
   "cell_type": "code",
   "execution_count": 9,
   "metadata": {},
   "outputs": [],
   "source": [
    "# df.drop(['Route', 'Additional_Info'], axis= 1, inplace= True)"
   ]
  },
  {
   "cell_type": "markdown",
   "metadata": {},
   "source": [
    "### 2.2 Type Transformation"
   ]
  },
  {
   "cell_type": "code",
   "execution_count": 10,
   "metadata": {},
   "outputs": [],
   "source": [
    "df['Date_of_Journey'] = pd.to_datetime(df['Date_of_Journey'], format= '%d/%m/%Y')"
   ]
  },
  {
   "cell_type": "code",
   "execution_count": 11,
   "metadata": {},
   "outputs": [
    {
     "data": {
      "text/plain": [
       "1 stop      5625\n",
       "non-stop    3475\n",
       "2 stops     1318\n",
       "3 stops       43\n",
       "4 stops        1\n",
       "Name: Total_Stops, dtype: int64"
      ]
     },
     "execution_count": 11,
     "metadata": {},
     "output_type": "execute_result"
    }
   ],
   "source": [
    "df.Total_Stops.value_counts()"
   ]
  },
  {
   "cell_type": "code",
   "execution_count": 12,
   "metadata": {},
   "outputs": [],
   "source": [
    "def stops_num(x):\n",
    "    return (int(0) if x == 'non-stop' else int(x[0]))"
   ]
  },
  {
   "cell_type": "code",
   "execution_count": 13,
   "metadata": {},
   "outputs": [],
   "source": [
    "df['Total_Stops'] = df['Total_Stops'].apply(stops_num)"
   ]
  },
  {
   "cell_type": "code",
   "execution_count": 14,
   "metadata": {},
   "outputs": [],
   "source": [
    "def arrival_time(x):\n",
    "    return x[:5]"
   ]
  },
  {
   "cell_type": "code",
   "execution_count": 15,
   "metadata": {},
   "outputs": [],
   "source": [
    "df['Arrival_Time'] = df['Arrival_Time'].apply(arrival_time)"
   ]
  },
  {
   "cell_type": "code",
   "execution_count": 16,
   "metadata": {},
   "outputs": [
    {
     "data": {
      "text/html": [
       "<div>\n",
       "<style scoped>\n",
       "    .dataframe tbody tr th:only-of-type {\n",
       "        vertical-align: middle;\n",
       "    }\n",
       "\n",
       "    .dataframe tbody tr th {\n",
       "        vertical-align: top;\n",
       "    }\n",
       "\n",
       "    .dataframe thead th {\n",
       "        text-align: right;\n",
       "    }\n",
       "</style>\n",
       "<table border=\"1\" class=\"dataframe\">\n",
       "  <thead>\n",
       "    <tr style=\"text-align: right;\">\n",
       "      <th></th>\n",
       "      <th>Airline</th>\n",
       "      <th>Date_of_Journey</th>\n",
       "      <th>Source</th>\n",
       "      <th>Destination</th>\n",
       "      <th>Route</th>\n",
       "      <th>Dep_Time</th>\n",
       "      <th>Arrival_Time</th>\n",
       "      <th>Duration</th>\n",
       "      <th>Total_Stops</th>\n",
       "      <th>Additional_Info</th>\n",
       "      <th>Price</th>\n",
       "    </tr>\n",
       "  </thead>\n",
       "  <tbody>\n",
       "    <tr>\n",
       "      <th>0</th>\n",
       "      <td>IndiGo</td>\n",
       "      <td>2019-03-24</td>\n",
       "      <td>Banglore</td>\n",
       "      <td>New Delhi</td>\n",
       "      <td>BLR → DEL</td>\n",
       "      <td>22:20</td>\n",
       "      <td>01:10</td>\n",
       "      <td>2h 50m</td>\n",
       "      <td>0</td>\n",
       "      <td>No info</td>\n",
       "      <td>3897.0</td>\n",
       "    </tr>\n",
       "    <tr>\n",
       "      <th>1</th>\n",
       "      <td>Air India</td>\n",
       "      <td>2019-05-01</td>\n",
       "      <td>Kolkata</td>\n",
       "      <td>Banglore</td>\n",
       "      <td>CCU → IXR → BBI → BLR</td>\n",
       "      <td>05:50</td>\n",
       "      <td>13:15</td>\n",
       "      <td>7h 25m</td>\n",
       "      <td>2</td>\n",
       "      <td>No info</td>\n",
       "      <td>7662.0</td>\n",
       "    </tr>\n",
       "  </tbody>\n",
       "</table>\n",
       "</div>"
      ],
      "text/plain": [
       "     Airline Date_of_Journey    Source Destination                  Route  \\\n",
       "0     IndiGo      2019-03-24  Banglore   New Delhi              BLR → DEL   \n",
       "1  Air India      2019-05-01   Kolkata    Banglore  CCU → IXR → BBI → BLR   \n",
       "\n",
       "  Dep_Time Arrival_Time Duration  Total_Stops Additional_Info   Price  \n",
       "0    22:20        01:10   2h 50m            0         No info  3897.0  \n",
       "1    05:50        13:15   7h 25m            2         No info  7662.0  "
      ]
     },
     "execution_count": 16,
     "metadata": {},
     "output_type": "execute_result"
    }
   ],
   "source": [
    "df.head(2)"
   ]
  },
  {
   "cell_type": "code",
   "execution_count": 17,
   "metadata": {},
   "outputs": [
    {
     "data": {
      "text/plain": [
       "array(['2h 50m', '7h 25m', '19h', '5h 25m', '4h 45m', '2h 25m', '15h 30m',\n",
       "       '21h 5m', '25h 30m', '7h 50m', '13h 15m', '2h 35m', '2h 15m',\n",
       "       '12h 10m', '26h 35m', '4h 30m', '22h 35m', '23h', '20h 35m',\n",
       "       '5h 10m', '15h 20m', '2h 55m', '13h 20m', '15h 10m', '5h 45m',\n",
       "       '5h 55m', '13h 25m', '22h', '5h 30m', '10h 25m', '5h 15m',\n",
       "       '2h 30m', '6h 15m', '11h 55m', '11h 5m', '8h 30m', '22h 5m',\n",
       "       '2h 45m', '12h', '16h 5m', '19h 55m', '3h 15m', '25h 20m', '3h',\n",
       "       '16h 15m', '15h 5m', '6h 30m', '25h 5m', '12h 25m', '27h 20m',\n",
       "       '10h 15m', '10h 30m', '1h 30m', '1h 25m', '26h 30m', '7h 20m',\n",
       "       '13h 30m', '5h', '19h 5m', '14h 50m', '2h 40m', '22h 10m',\n",
       "       '9h 35m', '10h', '21h 20m', '18h 45m', '12h 20m', '18h', '9h 15m',\n",
       "       '17h 30m', '16h 35m', '12h 15m', '7h 30m', '24h', '8h 55m',\n",
       "       '7h 10m', '14h 30m', '30h 20m', '15h', '12h 45m', '10h 10m',\n",
       "       '15h 25m', '14h 5m', '20h 15m', '23h 10m', '18h 10m', '16h',\n",
       "       '2h 20m', '8h', '16h 55m', '3h 10m', '14h', '23h 50m', '21h 40m',\n",
       "       '21h 15m', '10h 50m', '8h 15m', '8h 35m', '11h 50m', '27h 35m',\n",
       "       '8h 25m', '20h 55m', '4h 50m', '8h 10m', '24h 25m', '23h 35m',\n",
       "       '25h 45m', '26h 10m', '28h 50m', '25h 15m', '9h 20m', '9h 10m',\n",
       "       '3h 5m', '11h 30m', '9h 30m', '17h 35m', '5h 5m', '25h 50m', '20h',\n",
       "       '13h', '18h 25m', '24h 10m', '4h 55m', '25h 35m', '6h 20m',\n",
       "       '18h 40m', '19h 25m', '29h 20m', '9h 5m', '10h 45m', '11h 40m',\n",
       "       '22h 55m', '37h 25m', '25h 40m', '13h 55m', '8h 40m', '23h 30m',\n",
       "       '12h 35m', '24h 15m', '1h 20m', '11h', '11h 15m', '14h 35m',\n",
       "       '12h 55m', '9h', '7h 40m', '11h 45m', '24h 55m', '17h 5m',\n",
       "       '29h 55m', '22h 15m', '14h 40m', '7h 15m', '20h 10m', '20h 45m',\n",
       "       '27h', '24h 30m', '20h 25m', '5h 35m', '14h 45m', '5h 40m',\n",
       "       '4h 5m', '15h 55m', '7h 45m', '28h 20m', '4h 20m', '3h 40m',\n",
       "       '8h 50m', '23h 45m', '24h 45m', '21h 35m', '8h 5m', '6h 25m',\n",
       "       '15h 50m', '26h 25m', '24h 50m', '26h', '23h 5m', '7h 55m',\n",
       "       '26h 20m', '23h 15m', '5h 20m', '4h', '9h 45m', '8h 20m',\n",
       "       '17h 25m', '7h 5m', '34h 5m', '6h 5m', '5h 50m', '7h', '4h 25m',\n",
       "       '13h 45m', '19h 15m', '22h 30m', '16h 25m', '13h 50m', '27h 5m',\n",
       "       '28h 10m', '4h 40m', '15h 40m', '4h 35m', '18h 30m', '38h 15m',\n",
       "       '6h 35m', '12h 30m', '11h 20m', '7h 35m', '29h 35m', '26h 55m',\n",
       "       '23h 40m', '12h 50m', '9h 50m', '21h 55m', '10h 55m', '21h 10m',\n",
       "       '20h 40m', '30h', '13h 10m', '8h 45m', '6h 10m', '17h 45m',\n",
       "       '21h 45m', '3h 55m', '17h 20m', '30h 30m', '21h 25m', '12h 40m',\n",
       "       '24h 35m', '19h 10m', '22h 40m', '14h 55m', '21h', '6h 45m',\n",
       "       '28h 40m', '9h 40m', '16h 40m', '16h 20m', '16h 45m', '1h 15m',\n",
       "       '6h 55m', '11h 25m', '14h 20m', '12h 5m', '24h 5m', '28h 15m',\n",
       "       '17h 50m', '20h 20m', '28h 5m', '10h 20m', '14h 15m', '35h 15m',\n",
       "       '35h 35m', '26h 40m', '28h', '14h 25m', '13h 5m', '37h 20m',\n",
       "       '36h 10m', '25h 55m', '35h 5m', '19h 45m', '27h 55m', '47h',\n",
       "       '10h 35m', '1h 35m', '16h 10m', '38h 20m', '6h', '16h 50m',\n",
       "       '14h 10m', '23h 20m', '17h 40m', '11h 35m', '18h 20m', '6h 40m',\n",
       "       '30h 55m', '24h 40m', '29h 50m', '28h 25m', '17h 15m', '22h 45m',\n",
       "       '25h 25m', '21h 50m', '33h 15m', '30h 15m', '3h 35m', '27h 40m',\n",
       "       '30h 25m', '18h 50m', '27h 45m', '15h 15m', '10h 40m', '26h 15m',\n",
       "       '36h 25m', '26h 50m', '15h 45m', '19h 40m', '22h 25m', '19h 35m',\n",
       "       '25h', '26h 45m', '38h', '4h 15m', '25h 10m', '18h 15m', '6h 50m',\n",
       "       '23h 55m', '17h 55m', '23h 25m', '17h 10m', '24h 20m', '28h 30m',\n",
       "       '27h 10m', '19h 20m', '15h 35m', '9h 25m', '21h 30m', '34h 25m',\n",
       "       '18h 35m', '29h 40m', '26h 5m', '29h 5m', '27h 25m', '16h 30m',\n",
       "       '11h 10m', '28h 55m', '29h 10m', '34h', '30h 40m', '30h 45m',\n",
       "       '32h 55m', '10h 5m', '35h 20m', '32h 5m', '31h 40m', '19h 50m',\n",
       "       '33h 45m', '30h 10m', '13h 40m', '19h 30m', '31h 30m', '34h 30m',\n",
       "       '27h 50m', '38h 35m', '42h 5m', '4h 10m', '39h 5m', '3h 50m', '5m',\n",
       "       '32h 30m', '31h 55m', '33h 20m', '27h 30m', '18h 55m', '9h 55m',\n",
       "       '41h 20m', '20h 5m', '31h 50m', '42h 45m', '3h 25m', '37h 10m',\n",
       "       '29h 30m', '32h 20m', '20h 50m', '40h 20m', '13h 35m', '47h 40m'],\n",
       "      dtype=object)"
      ]
     },
     "execution_count": 17,
     "metadata": {},
     "output_type": "execute_result"
    }
   ],
   "source": [
    "df.Duration.unique()"
   ]
  },
  {
   "cell_type": "code",
   "execution_count": 18,
   "metadata": {},
   "outputs": [
    {
     "data": {
      "text/html": [
       "<div>\n",
       "<style scoped>\n",
       "    .dataframe tbody tr th:only-of-type {\n",
       "        vertical-align: middle;\n",
       "    }\n",
       "\n",
       "    .dataframe tbody tr th {\n",
       "        vertical-align: top;\n",
       "    }\n",
       "\n",
       "    .dataframe thead th {\n",
       "        text-align: right;\n",
       "    }\n",
       "</style>\n",
       "<table border=\"1\" class=\"dataframe\">\n",
       "  <thead>\n",
       "    <tr style=\"text-align: right;\">\n",
       "      <th></th>\n",
       "      <th>Airline</th>\n",
       "      <th>Date_of_Journey</th>\n",
       "      <th>Source</th>\n",
       "      <th>Destination</th>\n",
       "      <th>Route</th>\n",
       "      <th>Dep_Time</th>\n",
       "      <th>Arrival_Time</th>\n",
       "      <th>Duration</th>\n",
       "      <th>Total_Stops</th>\n",
       "      <th>Additional_Info</th>\n",
       "      <th>Price</th>\n",
       "    </tr>\n",
       "  </thead>\n",
       "  <tbody>\n",
       "    <tr>\n",
       "      <th>6397</th>\n",
       "      <td>Air India</td>\n",
       "      <td>2019-03-06</td>\n",
       "      <td>Mumbai</td>\n",
       "      <td>Hyderabad</td>\n",
       "      <td>BOM → GOI → PNQ → HYD</td>\n",
       "      <td>16:50</td>\n",
       "      <td>16:55</td>\n",
       "      <td>5m</td>\n",
       "      <td>2</td>\n",
       "      <td>No info</td>\n",
       "      <td>17327.0</td>\n",
       "    </tr>\n",
       "  </tbody>\n",
       "</table>\n",
       "</div>"
      ],
      "text/plain": [
       "        Airline Date_of_Journey  Source Destination                  Route  \\\n",
       "6397  Air India      2019-03-06  Mumbai   Hyderabad  BOM → GOI → PNQ → HYD   \n",
       "\n",
       "     Dep_Time Arrival_Time Duration  Total_Stops Additional_Info    Price  \n",
       "6397    16:50        16:55       5m            2         No info  17327.0  "
      ]
     },
     "execution_count": 18,
     "metadata": {},
     "output_type": "execute_result"
    }
   ],
   "source": [
    "df[df.Duration == '5m']"
   ]
  },
  {
   "cell_type": "code",
   "execution_count": 19,
   "metadata": {},
   "outputs": [],
   "source": [
    "df = df[df.Duration != '5m']"
   ]
  },
  {
   "cell_type": "code",
   "execution_count": 20,
   "metadata": {},
   "outputs": [],
   "source": [
    "df['Month'] = df.Date_of_Journey.dt.month_name()\n",
    "df['Day'] = df.Date_of_Journey.dt.day\n",
    "df['Day_Name'] = df.Date_of_Journey.dt.day_name()"
   ]
  },
  {
   "cell_type": "code",
   "execution_count": 21,
   "metadata": {},
   "outputs": [],
   "source": [
    "def duration_manip(x):\n",
    "    if ('h' in x) & ('m' in x):\n",
    "        x.strip()\n",
    "        hrs = x.split(' ')[0].replace('h', '')\n",
    "        mins = x.split(' ')[1].replace('m', '')\n",
    "    elif ('h' in x) & ('m' not in x):\n",
    "        hrs = x.strip().replace('h', '')\n",
    "        mins = 0\n",
    "    else:\n",
    "        hrs = 0\n",
    "        mins = x.strip().replace('m', '')\n",
    "\n",
    "    return (int(hrs), int(mins))  "
   ]
  },
  {
   "cell_type": "code",
   "execution_count": 22,
   "metadata": {},
   "outputs": [],
   "source": [
    "df['Duration_Hrs'], df['Duration_Mins'] = zip(*df.Duration.apply(duration_manip))"
   ]
  },
  {
   "cell_type": "code",
   "execution_count": 23,
   "metadata": {},
   "outputs": [],
   "source": [
    "df['Duration'] = round((df['Duration_Hrs'] + (df['Duration_Mins'] / 60)), 2)"
   ]
  },
  {
   "cell_type": "code",
   "execution_count": 24,
   "metadata": {},
   "outputs": [],
   "source": [
    "# airline_counts = df['Airline'].value_counts()\n",
    "# other_airlines = airline_counts[airline_counts < 100].index.tolist()"
   ]
  },
  {
   "cell_type": "code",
   "execution_count": 25,
   "metadata": {},
   "outputs": [],
   "source": [
    "# df.loc[df['Airline'].isin(other_airlines), 'Airline'] = 'others'"
   ]
  },
  {
   "cell_type": "code",
   "execution_count": 26,
   "metadata": {},
   "outputs": [
    {
     "name": "stdout",
     "output_type": "stream",
     "text": [
      "(10461, 16)\n"
     ]
    },
    {
     "data": {
      "text/html": [
       "<div>\n",
       "<style scoped>\n",
       "    .dataframe tbody tr th:only-of-type {\n",
       "        vertical-align: middle;\n",
       "    }\n",
       "\n",
       "    .dataframe tbody tr th {\n",
       "        vertical-align: top;\n",
       "    }\n",
       "\n",
       "    .dataframe thead th {\n",
       "        text-align: right;\n",
       "    }\n",
       "</style>\n",
       "<table border=\"1\" class=\"dataframe\">\n",
       "  <thead>\n",
       "    <tr style=\"text-align: right;\">\n",
       "      <th></th>\n",
       "      <th>Airline</th>\n",
       "      <th>Date_of_Journey</th>\n",
       "      <th>Source</th>\n",
       "      <th>Destination</th>\n",
       "      <th>Route</th>\n",
       "      <th>Dep_Time</th>\n",
       "      <th>Arrival_Time</th>\n",
       "      <th>Duration</th>\n",
       "      <th>Total_Stops</th>\n",
       "      <th>Additional_Info</th>\n",
       "      <th>Price</th>\n",
       "      <th>Month</th>\n",
       "      <th>Day</th>\n",
       "      <th>Day_Name</th>\n",
       "      <th>Duration_Hrs</th>\n",
       "      <th>Duration_Mins</th>\n",
       "    </tr>\n",
       "  </thead>\n",
       "  <tbody>\n",
       "    <tr>\n",
       "      <th>0</th>\n",
       "      <td>IndiGo</td>\n",
       "      <td>2019-03-24</td>\n",
       "      <td>Banglore</td>\n",
       "      <td>New Delhi</td>\n",
       "      <td>BLR → DEL</td>\n",
       "      <td>22:20</td>\n",
       "      <td>01:10</td>\n",
       "      <td>2.83</td>\n",
       "      <td>0</td>\n",
       "      <td>No info</td>\n",
       "      <td>3897.0</td>\n",
       "      <td>March</td>\n",
       "      <td>24</td>\n",
       "      <td>Sunday</td>\n",
       "      <td>2</td>\n",
       "      <td>50</td>\n",
       "    </tr>\n",
       "    <tr>\n",
       "      <th>1</th>\n",
       "      <td>Air India</td>\n",
       "      <td>2019-05-01</td>\n",
       "      <td>Kolkata</td>\n",
       "      <td>Banglore</td>\n",
       "      <td>CCU → IXR → BBI → BLR</td>\n",
       "      <td>05:50</td>\n",
       "      <td>13:15</td>\n",
       "      <td>7.42</td>\n",
       "      <td>2</td>\n",
       "      <td>No info</td>\n",
       "      <td>7662.0</td>\n",
       "      <td>May</td>\n",
       "      <td>1</td>\n",
       "      <td>Wednesday</td>\n",
       "      <td>7</td>\n",
       "      <td>25</td>\n",
       "    </tr>\n",
       "  </tbody>\n",
       "</table>\n",
       "</div>"
      ],
      "text/plain": [
       "     Airline Date_of_Journey    Source Destination                  Route  \\\n",
       "0     IndiGo      2019-03-24  Banglore   New Delhi              BLR → DEL   \n",
       "1  Air India      2019-05-01   Kolkata    Banglore  CCU → IXR → BBI → BLR   \n",
       "\n",
       "  Dep_Time Arrival_Time  Duration  Total_Stops Additional_Info   Price  Month  \\\n",
       "0    22:20        01:10      2.83            0         No info  3897.0  March   \n",
       "1    05:50        13:15      7.42            2         No info  7662.0    May   \n",
       "\n",
       "   Day   Day_Name  Duration_Hrs  Duration_Mins  \n",
       "0   24     Sunday             2             50  \n",
       "1    1  Wednesday             7             25  "
      ]
     },
     "execution_count": 26,
     "metadata": {},
     "output_type": "execute_result"
    }
   ],
   "source": [
    "df.reset_index(drop= True, inplace= True)\n",
    "print(df.shape)\n",
    "df.head(2)"
   ]
  },
  {
   "cell_type": "markdown",
   "metadata": {},
   "source": [
    "## 3. Data Preprocessing"
   ]
  },
  {
   "cell_type": "code",
   "execution_count": 27,
   "metadata": {},
   "outputs": [],
   "source": [
    "df['Duration'] = df['Duration'] * 60"
   ]
  },
  {
   "cell_type": "code",
   "execution_count": 28,
   "metadata": {},
   "outputs": [],
   "source": [
    "df.drop(['Date_of_Journey','Route','Dep_Time','Arrival_Time','Additional_Info','Day','Duration_Hrs','Duration_Mins'], axis= 1, inplace= True)\n",
    "df.reset_index(inplace= True, drop= True)"
   ]
  },
  {
   "cell_type": "code",
   "execution_count": 29,
   "metadata": {},
   "outputs": [
    {
     "name": "stdout",
     "output_type": "stream",
     "text": [
      "(10461, 8)\n"
     ]
    },
    {
     "data": {
      "text/html": [
       "<div>\n",
       "<style scoped>\n",
       "    .dataframe tbody tr th:only-of-type {\n",
       "        vertical-align: middle;\n",
       "    }\n",
       "\n",
       "    .dataframe tbody tr th {\n",
       "        vertical-align: top;\n",
       "    }\n",
       "\n",
       "    .dataframe thead th {\n",
       "        text-align: right;\n",
       "    }\n",
       "</style>\n",
       "<table border=\"1\" class=\"dataframe\">\n",
       "  <thead>\n",
       "    <tr style=\"text-align: right;\">\n",
       "      <th></th>\n",
       "      <th>Airline</th>\n",
       "      <th>Source</th>\n",
       "      <th>Destination</th>\n",
       "      <th>Duration</th>\n",
       "      <th>Total_Stops</th>\n",
       "      <th>Price</th>\n",
       "      <th>Month</th>\n",
       "      <th>Day_Name</th>\n",
       "    </tr>\n",
       "  </thead>\n",
       "  <tbody>\n",
       "    <tr>\n",
       "      <th>0</th>\n",
       "      <td>IndiGo</td>\n",
       "      <td>Banglore</td>\n",
       "      <td>New Delhi</td>\n",
       "      <td>169.8</td>\n",
       "      <td>0</td>\n",
       "      <td>3897.0</td>\n",
       "      <td>March</td>\n",
       "      <td>Sunday</td>\n",
       "    </tr>\n",
       "    <tr>\n",
       "      <th>1</th>\n",
       "      <td>Air India</td>\n",
       "      <td>Kolkata</td>\n",
       "      <td>Banglore</td>\n",
       "      <td>445.2</td>\n",
       "      <td>2</td>\n",
       "      <td>7662.0</td>\n",
       "      <td>May</td>\n",
       "      <td>Wednesday</td>\n",
       "    </tr>\n",
       "  </tbody>\n",
       "</table>\n",
       "</div>"
      ],
      "text/plain": [
       "     Airline    Source Destination  Duration  Total_Stops   Price  Month  \\\n",
       "0     IndiGo  Banglore   New Delhi     169.8            0  3897.0  March   \n",
       "1  Air India   Kolkata    Banglore     445.2            2  7662.0    May   \n",
       "\n",
       "    Day_Name  \n",
       "0     Sunday  \n",
       "1  Wednesday  "
      ]
     },
     "execution_count": 29,
     "metadata": {},
     "output_type": "execute_result"
    }
   ],
   "source": [
    "print(df.shape)\n",
    "df.head(2)"
   ]
  },
  {
   "cell_type": "code",
   "execution_count": 30,
   "metadata": {},
   "outputs": [
    {
     "name": "stdout",
     "output_type": "stream",
     "text": [
      "<class 'pandas.core.frame.DataFrame'>\n",
      "RangeIndex: 10461 entries, 0 to 10460\n",
      "Data columns (total 8 columns):\n",
      " #   Column       Non-Null Count  Dtype  \n",
      "---  ------       --------------  -----  \n",
      " 0   Airline      10461 non-null  object \n",
      " 1   Source       10461 non-null  object \n",
      " 2   Destination  10461 non-null  object \n",
      " 3   Duration     10461 non-null  float64\n",
      " 4   Total_Stops  10461 non-null  int64  \n",
      " 5   Price        10461 non-null  float64\n",
      " 6   Month        10461 non-null  object \n",
      " 7   Day_Name     10461 non-null  object \n",
      "dtypes: float64(2), int64(1), object(5)\n",
      "memory usage: 653.9+ KB\n"
     ]
    }
   ],
   "source": [
    "df.info()"
   ]
  },
  {
   "cell_type": "code",
   "execution_count": 31,
   "metadata": {},
   "outputs": [
    {
     "data": {
      "text/plain": [
       "Index(['Airline', 'Source', 'Destination', 'Month', 'Day_Name'], dtype='object')"
      ]
     },
     "execution_count": 31,
     "metadata": {},
     "output_type": "execute_result"
    }
   ],
   "source": [
    "df.select_dtypes(include= 'object').columns"
   ]
  },
  {
   "cell_type": "code",
   "execution_count": 32,
   "metadata": {},
   "outputs": [
    {
     "name": "stdout",
     "output_type": "stream",
     "text": [
      "Airline \n",
      " 12\n",
      "Source \n",
      " 5\n",
      "Destination \n",
      " 6\n",
      "Month \n",
      " 4\n",
      "Day_Name \n",
      " 7\n"
     ]
    }
   ],
   "source": [
    "for i in df.select_dtypes(include= 'object').columns:\n",
    "    print(f'{i} \\n {df[i].nunique()}')"
   ]
  },
  {
   "cell_type": "code",
   "execution_count": 33,
   "metadata": {},
   "outputs": [],
   "source": [
    "ohe_cols = ['Source', 'Destination', 'Month', 'Day_Name']\n",
    "be_cols = ['Airline']"
   ]
  },
  {
   "cell_type": "code",
   "execution_count": 34,
   "metadata": {},
   "outputs": [],
   "source": [
    "encoder = ColumnTransformer(transformers= [('ohe', OneHotEncoder(sparse_output= False, drop= 'first'), ohe_cols), ('be', BinaryEncoder(), be_cols)], remainder= 'passthrough')"
   ]
  },
  {
   "cell_type": "code",
   "execution_count": 35,
   "metadata": {},
   "outputs": [],
   "source": [
    "linear_regression = LinearRegression()\n",
    "random_forest = RandomForestRegressor()\n",
    "knn = KNeighborsRegressor()\n",
    "decision_tree = DecisionTreeRegressor()\n",
    "xgboost = XGBRegressor()\n",
    "models = {\n",
    "          'LinearRegression': linear_regression,\n",
    "          'RandomForestRegressor': random_forest,\n",
    "          'knn': knn,\n",
    "          'DecisionTreeRegressor': decision_tree,\n",
    "          'XGBRegressor': xgboost\n",
    "          }"
   ]
  },
  {
   "cell_type": "code",
   "execution_count": 36,
   "metadata": {},
   "outputs": [],
   "source": [
    "kfold = KFold(n_splits= 5)"
   ]
  },
  {
   "cell_type": "code",
   "execution_count": 37,
   "metadata": {},
   "outputs": [],
   "source": [
    "X = df.drop('Price', axis= 1)\n",
    "y = df['Price']"
   ]
  },
  {
   "cell_type": "code",
   "execution_count": 38,
   "metadata": {},
   "outputs": [
    {
     "name": "stdout",
     "output_type": "stream",
     "text": [
      "LinearRegression\n",
      "Train Score 0.5432953361432835\n",
      "__________\n",
      "Test Score 0.5406773331402492\n",
      "______________________________\n",
      "\n",
      "\n",
      "RandomForestRegressor\n",
      "Train Score 0.8856535946226586\n",
      "__________\n",
      "Test Score 0.6652427561113103\n",
      "______________________________\n",
      "\n",
      "\n",
      "knn\n",
      "Train Score 0.7763004999462892\n",
      "__________\n",
      "Test Score 0.6580443738282837\n",
      "______________________________\n",
      "\n",
      "\n",
      "DecisionTreeRegressor\n",
      "Train Score 0.9048710899116383\n",
      "__________\n",
      "Test Score 0.55737084082837\n",
      "______________________________\n",
      "\n",
      "\n",
      "XGBRegressor\n",
      "Train Score 0.8462848897968138\n",
      "__________\n",
      "Test Score 0.7114076436631266\n",
      "______________________________\n",
      "\n",
      "\n"
     ]
    }
   ],
   "source": [
    "for model_name, model in models.items():\n",
    "    steps = []\n",
    "    steps.append(('encoder', encoder))\n",
    "    steps.append(('scaler', RobustScaler()))\n",
    "    steps.append(('model', model))\n",
    "    pipeline = Pipeline(steps= steps)\n",
    "    results = cross_validate(pipeline, X, y, scoring= 'r2', cv= kfold, return_train_score= True)\n",
    "    print(model_name)\n",
    "    print(f'Train Score {results[\"train_score\"].mean()}')\n",
    "    print('_' * 10)\n",
    "    print(f'Test Score {results[\"test_score\"].mean()}')\n",
    "    print('_' * 30)\n",
    "    print('\\n')"
   ]
  },
  {
   "cell_type": "code",
   "execution_count": 39,
   "metadata": {},
   "outputs": [
    {
     "data": {
      "text/plain": [
       "{'model__learning_rate': 0.1,\n",
       " 'model__max_depth': 7,\n",
       " 'model__n_estimators': 100,\n",
       " 'model__reg_lambda': 4}"
      ]
     },
     "execution_count": 39,
     "metadata": {},
     "output_type": "execute_result"
    }
   ],
   "source": [
    "params = {\n",
    "    'model__n_estimators': [100, 150, 200],\n",
    "    'model__max_depth': [3, 5, 7],\n",
    "    'model__learning_rate': [0.1, 0.3, 0.4],\n",
    "    'model__reg_lambda': [1, 3, 4]\n",
    "}\n",
    "model = XGBRegressor()\n",
    "steps = []\n",
    "steps.append(('encoder', encoder))\n",
    "steps.append(('scaler', RobustScaler()))\n",
    "steps.append(('model', model))\n",
    "pipeline = Pipeline(steps= steps)\n",
    "grid = GridSearchCV(estimator= pipeline, param_grid= params, scoring= 'r2', cv= kfold, return_train_score= True, n_jobs= -1)\n",
    "grid.fit(X, y)\n",
    "grid.best_params_"
   ]
  },
  {
   "cell_type": "code",
   "execution_count": 40,
   "metadata": {},
   "outputs": [
    {
     "data": {
      "text/html": [
       "<style>#sk-container-id-1 {color: black;background-color: white;}#sk-container-id-1 pre{padding: 0;}#sk-container-id-1 div.sk-toggleable {background-color: white;}#sk-container-id-1 label.sk-toggleable__label {cursor: pointer;display: block;width: 100%;margin-bottom: 0;padding: 0.3em;box-sizing: border-box;text-align: center;}#sk-container-id-1 label.sk-toggleable__label-arrow:before {content: \"▸\";float: left;margin-right: 0.25em;color: #696969;}#sk-container-id-1 label.sk-toggleable__label-arrow:hover:before {color: black;}#sk-container-id-1 div.sk-estimator:hover label.sk-toggleable__label-arrow:before {color: black;}#sk-container-id-1 div.sk-toggleable__content {max-height: 0;max-width: 0;overflow: hidden;text-align: left;background-color: #f0f8ff;}#sk-container-id-1 div.sk-toggleable__content pre {margin: 0.2em;color: black;border-radius: 0.25em;background-color: #f0f8ff;}#sk-container-id-1 input.sk-toggleable__control:checked~div.sk-toggleable__content {max-height: 200px;max-width: 100%;overflow: auto;}#sk-container-id-1 input.sk-toggleable__control:checked~label.sk-toggleable__label-arrow:before {content: \"▾\";}#sk-container-id-1 div.sk-estimator input.sk-toggleable__control:checked~label.sk-toggleable__label {background-color: #d4ebff;}#sk-container-id-1 div.sk-label input.sk-toggleable__control:checked~label.sk-toggleable__label {background-color: #d4ebff;}#sk-container-id-1 input.sk-hidden--visually {border: 0;clip: rect(1px 1px 1px 1px);clip: rect(1px, 1px, 1px, 1px);height: 1px;margin: -1px;overflow: hidden;padding: 0;position: absolute;width: 1px;}#sk-container-id-1 div.sk-estimator {font-family: monospace;background-color: #f0f8ff;border: 1px dotted black;border-radius: 0.25em;box-sizing: border-box;margin-bottom: 0.5em;}#sk-container-id-1 div.sk-estimator:hover {background-color: #d4ebff;}#sk-container-id-1 div.sk-parallel-item::after {content: \"\";width: 100%;border-bottom: 1px solid gray;flex-grow: 1;}#sk-container-id-1 div.sk-label:hover label.sk-toggleable__label {background-color: #d4ebff;}#sk-container-id-1 div.sk-serial::before {content: \"\";position: absolute;border-left: 1px solid gray;box-sizing: border-box;top: 0;bottom: 0;left: 50%;z-index: 0;}#sk-container-id-1 div.sk-serial {display: flex;flex-direction: column;align-items: center;background-color: white;padding-right: 0.2em;padding-left: 0.2em;position: relative;}#sk-container-id-1 div.sk-item {position: relative;z-index: 1;}#sk-container-id-1 div.sk-parallel {display: flex;align-items: stretch;justify-content: center;background-color: white;position: relative;}#sk-container-id-1 div.sk-item::before, #sk-container-id-1 div.sk-parallel-item::before {content: \"\";position: absolute;border-left: 1px solid gray;box-sizing: border-box;top: 0;bottom: 0;left: 50%;z-index: -1;}#sk-container-id-1 div.sk-parallel-item {display: flex;flex-direction: column;z-index: 1;position: relative;background-color: white;}#sk-container-id-1 div.sk-parallel-item:first-child::after {align-self: flex-end;width: 50%;}#sk-container-id-1 div.sk-parallel-item:last-child::after {align-self: flex-start;width: 50%;}#sk-container-id-1 div.sk-parallel-item:only-child::after {width: 0;}#sk-container-id-1 div.sk-dashed-wrapped {border: 1px dashed gray;margin: 0 0.4em 0.5em 0.4em;box-sizing: border-box;padding-bottom: 0.4em;background-color: white;}#sk-container-id-1 div.sk-label label {font-family: monospace;font-weight: bold;display: inline-block;line-height: 1.2em;}#sk-container-id-1 div.sk-label-container {text-align: center;}#sk-container-id-1 div.sk-container {/* jupyter's `normalize.less` sets `[hidden] { display: none; }` but bootstrap.min.css set `[hidden] { display: none !important; }` so we also need the `!important` here to be able to override the default hidden behavior on the sphinx rendered scikit-learn.org. See: https://github.com/scikit-learn/scikit-learn/issues/21755 */display: inline-block !important;position: relative;}#sk-container-id-1 div.sk-text-repr-fallback {display: none;}</style><div id=\"sk-container-id-1\" class=\"sk-top-container\"><div class=\"sk-text-repr-fallback\"><pre>Pipeline(steps=[(&#x27;encoder&#x27;,\n",
       "                 ColumnTransformer(remainder=&#x27;passthrough&#x27;,\n",
       "                                   transformers=[(&#x27;ohe&#x27;,\n",
       "                                                  OneHotEncoder(drop=&#x27;first&#x27;,\n",
       "                                                                sparse_output=False),\n",
       "                                                  [&#x27;Source&#x27;, &#x27;Destination&#x27;,\n",
       "                                                   &#x27;Month&#x27;, &#x27;Day_Name&#x27;]),\n",
       "                                                 (&#x27;be&#x27;, BinaryEncoder(),\n",
       "                                                  [&#x27;Airline&#x27;])])),\n",
       "                (&#x27;scaler&#x27;, RobustScaler()),\n",
       "                (&#x27;model&#x27;,\n",
       "                 XGBRegressor(base_score=None, booster=None, callbacks=None,\n",
       "                              colsample_bylevel=None, colsample_byno...\n",
       "                              feature_types=None, gamma=None, gpu_id=None,\n",
       "                              grow_policy=None, importance_type=None,\n",
       "                              interaction_constraints=None, learning_rate=0.1,\n",
       "                              max_bin=None, max_cat_threshold=None,\n",
       "                              max_cat_to_onehot=None, max_delta_step=None,\n",
       "                              max_depth=7, max_leaves=None,\n",
       "                              min_child_weight=None, missing=nan,\n",
       "                              monotone_constraints=None, n_estimators=100,\n",
       "                              n_jobs=None, num_parallel_tree=None,\n",
       "                              predictor=None, random_state=None, ...))])</pre><b>In a Jupyter environment, please rerun this cell to show the HTML representation or trust the notebook. <br />On GitHub, the HTML representation is unable to render, please try loading this page with nbviewer.org.</b></div><div class=\"sk-container\" hidden><div class=\"sk-item sk-dashed-wrapped\"><div class=\"sk-label-container\"><div class=\"sk-label sk-toggleable\"><input class=\"sk-toggleable__control sk-hidden--visually\" id=\"sk-estimator-id-1\" type=\"checkbox\" ><label for=\"sk-estimator-id-1\" class=\"sk-toggleable__label sk-toggleable__label-arrow\">Pipeline</label><div class=\"sk-toggleable__content\"><pre>Pipeline(steps=[(&#x27;encoder&#x27;,\n",
       "                 ColumnTransformer(remainder=&#x27;passthrough&#x27;,\n",
       "                                   transformers=[(&#x27;ohe&#x27;,\n",
       "                                                  OneHotEncoder(drop=&#x27;first&#x27;,\n",
       "                                                                sparse_output=False),\n",
       "                                                  [&#x27;Source&#x27;, &#x27;Destination&#x27;,\n",
       "                                                   &#x27;Month&#x27;, &#x27;Day_Name&#x27;]),\n",
       "                                                 (&#x27;be&#x27;, BinaryEncoder(),\n",
       "                                                  [&#x27;Airline&#x27;])])),\n",
       "                (&#x27;scaler&#x27;, RobustScaler()),\n",
       "                (&#x27;model&#x27;,\n",
       "                 XGBRegressor(base_score=None, booster=None, callbacks=None,\n",
       "                              colsample_bylevel=None, colsample_byno...\n",
       "                              feature_types=None, gamma=None, gpu_id=None,\n",
       "                              grow_policy=None, importance_type=None,\n",
       "                              interaction_constraints=None, learning_rate=0.1,\n",
       "                              max_bin=None, max_cat_threshold=None,\n",
       "                              max_cat_to_onehot=None, max_delta_step=None,\n",
       "                              max_depth=7, max_leaves=None,\n",
       "                              min_child_weight=None, missing=nan,\n",
       "                              monotone_constraints=None, n_estimators=100,\n",
       "                              n_jobs=None, num_parallel_tree=None,\n",
       "                              predictor=None, random_state=None, ...))])</pre></div></div></div><div class=\"sk-serial\"><div class=\"sk-item sk-dashed-wrapped\"><div class=\"sk-label-container\"><div class=\"sk-label sk-toggleable\"><input class=\"sk-toggleable__control sk-hidden--visually\" id=\"sk-estimator-id-2\" type=\"checkbox\" ><label for=\"sk-estimator-id-2\" class=\"sk-toggleable__label sk-toggleable__label-arrow\">encoder: ColumnTransformer</label><div class=\"sk-toggleable__content\"><pre>ColumnTransformer(remainder=&#x27;passthrough&#x27;,\n",
       "                  transformers=[(&#x27;ohe&#x27;,\n",
       "                                 OneHotEncoder(drop=&#x27;first&#x27;,\n",
       "                                               sparse_output=False),\n",
       "                                 [&#x27;Source&#x27;, &#x27;Destination&#x27;, &#x27;Month&#x27;,\n",
       "                                  &#x27;Day_Name&#x27;]),\n",
       "                                (&#x27;be&#x27;, BinaryEncoder(), [&#x27;Airline&#x27;])])</pre></div></div></div><div class=\"sk-parallel\"><div class=\"sk-parallel-item\"><div class=\"sk-item\"><div class=\"sk-label-container\"><div class=\"sk-label sk-toggleable\"><input class=\"sk-toggleable__control sk-hidden--visually\" id=\"sk-estimator-id-3\" type=\"checkbox\" ><label for=\"sk-estimator-id-3\" class=\"sk-toggleable__label sk-toggleable__label-arrow\">ohe</label><div class=\"sk-toggleable__content\"><pre>[&#x27;Source&#x27;, &#x27;Destination&#x27;, &#x27;Month&#x27;, &#x27;Day_Name&#x27;]</pre></div></div></div><div class=\"sk-serial\"><div class=\"sk-item\"><div class=\"sk-estimator sk-toggleable\"><input class=\"sk-toggleable__control sk-hidden--visually\" id=\"sk-estimator-id-4\" type=\"checkbox\" ><label for=\"sk-estimator-id-4\" class=\"sk-toggleable__label sk-toggleable__label-arrow\">OneHotEncoder</label><div class=\"sk-toggleable__content\"><pre>OneHotEncoder(drop=&#x27;first&#x27;, sparse_output=False)</pre></div></div></div></div></div></div><div class=\"sk-parallel-item\"><div class=\"sk-item\"><div class=\"sk-label-container\"><div class=\"sk-label sk-toggleable\"><input class=\"sk-toggleable__control sk-hidden--visually\" id=\"sk-estimator-id-5\" type=\"checkbox\" ><label for=\"sk-estimator-id-5\" class=\"sk-toggleable__label sk-toggleable__label-arrow\">be</label><div class=\"sk-toggleable__content\"><pre>[&#x27;Airline&#x27;]</pre></div></div></div><div class=\"sk-serial\"><div class=\"sk-item\"><div class=\"sk-estimator sk-toggleable\"><input class=\"sk-toggleable__control sk-hidden--visually\" id=\"sk-estimator-id-6\" type=\"checkbox\" ><label for=\"sk-estimator-id-6\" class=\"sk-toggleable__label sk-toggleable__label-arrow\">BinaryEncoder</label><div class=\"sk-toggleable__content\"><pre>BinaryEncoder()</pre></div></div></div></div></div></div><div class=\"sk-parallel-item\"><div class=\"sk-item\"><div class=\"sk-label-container\"><div class=\"sk-label sk-toggleable\"><input class=\"sk-toggleable__control sk-hidden--visually\" id=\"sk-estimator-id-7\" type=\"checkbox\" ><label for=\"sk-estimator-id-7\" class=\"sk-toggleable__label sk-toggleable__label-arrow\">remainder</label><div class=\"sk-toggleable__content\"><pre>[&#x27;Duration&#x27;, &#x27;Total_Stops&#x27;]</pre></div></div></div><div class=\"sk-serial\"><div class=\"sk-item\"><div class=\"sk-estimator sk-toggleable\"><input class=\"sk-toggleable__control sk-hidden--visually\" id=\"sk-estimator-id-8\" type=\"checkbox\" ><label for=\"sk-estimator-id-8\" class=\"sk-toggleable__label sk-toggleable__label-arrow\">passthrough</label><div class=\"sk-toggleable__content\"><pre>passthrough</pre></div></div></div></div></div></div></div></div><div class=\"sk-item\"><div class=\"sk-estimator sk-toggleable\"><input class=\"sk-toggleable__control sk-hidden--visually\" id=\"sk-estimator-id-9\" type=\"checkbox\" ><label for=\"sk-estimator-id-9\" class=\"sk-toggleable__label sk-toggleable__label-arrow\">RobustScaler</label><div class=\"sk-toggleable__content\"><pre>RobustScaler()</pre></div></div></div><div class=\"sk-item\"><div class=\"sk-estimator sk-toggleable\"><input class=\"sk-toggleable__control sk-hidden--visually\" id=\"sk-estimator-id-10\" type=\"checkbox\" ><label for=\"sk-estimator-id-10\" class=\"sk-toggleable__label sk-toggleable__label-arrow\">XGBRegressor</label><div class=\"sk-toggleable__content\"><pre>XGBRegressor(base_score=None, booster=None, callbacks=None,\n",
       "             colsample_bylevel=None, colsample_bynode=None,\n",
       "             colsample_bytree=None, early_stopping_rounds=None,\n",
       "             enable_categorical=False, eval_metric=None, feature_types=None,\n",
       "             gamma=None, gpu_id=None, grow_policy=None, importance_type=None,\n",
       "             interaction_constraints=None, learning_rate=0.1, max_bin=None,\n",
       "             max_cat_threshold=None, max_cat_to_onehot=None,\n",
       "             max_delta_step=None, max_depth=7, max_leaves=None,\n",
       "             min_child_weight=None, missing=nan, monotone_constraints=None,\n",
       "             n_estimators=100, n_jobs=None, num_parallel_tree=None,\n",
       "             predictor=None, random_state=None, ...)</pre></div></div></div></div></div></div></div>"
      ],
      "text/plain": [
       "Pipeline(steps=[('encoder',\n",
       "                 ColumnTransformer(remainder='passthrough',\n",
       "                                   transformers=[('ohe',\n",
       "                                                  OneHotEncoder(drop='first',\n",
       "                                                                sparse_output=False),\n",
       "                                                  ['Source', 'Destination',\n",
       "                                                   'Month', 'Day_Name']),\n",
       "                                                 ('be', BinaryEncoder(),\n",
       "                                                  ['Airline'])])),\n",
       "                ('scaler', RobustScaler()),\n",
       "                ('model',\n",
       "                 XGBRegressor(base_score=None, booster=None, callbacks=None,\n",
       "                              colsample_bylevel=None, colsample_byno...\n",
       "                              feature_types=None, gamma=None, gpu_id=None,\n",
       "                              grow_policy=None, importance_type=None,\n",
       "                              interaction_constraints=None, learning_rate=0.1,\n",
       "                              max_bin=None, max_cat_threshold=None,\n",
       "                              max_cat_to_onehot=None, max_delta_step=None,\n",
       "                              max_depth=7, max_leaves=None,\n",
       "                              min_child_weight=None, missing=nan,\n",
       "                              monotone_constraints=None, n_estimators=100,\n",
       "                              n_jobs=None, num_parallel_tree=None,\n",
       "                              predictor=None, random_state=None, ...))])"
      ]
     },
     "execution_count": 40,
     "metadata": {},
     "output_type": "execute_result"
    }
   ],
   "source": [
    "model = grid.best_estimator_\n",
    "model"
   ]
  },
  {
   "cell_type": "code",
   "execution_count": 41,
   "metadata": {},
   "outputs": [
    {
     "name": "stdout",
     "output_type": "stream",
     "text": [
      "Train Score 0.8462848897968138\n",
      "__________\n",
      "Test Score 0.7114076436631266\n"
     ]
    }
   ],
   "source": [
    "results_best = cross_validate(model, X, y, scoring= 'r2', cv= kfold, return_train_score= True)\n",
    "print(f'Train Score {results[\"train_score\"].mean()}')\n",
    "print('_' * 10)\n",
    "print(f'Test Score {results[\"test_score\"].mean()}')"
   ]
  },
  {
   "cell_type": "code",
   "execution_count": 42,
   "metadata": {},
   "outputs": [
    {
     "data": {
      "text/plain": [
       "['Inputs.pkl']"
      ]
     },
     "execution_count": 42,
     "metadata": {},
     "output_type": "execute_result"
    }
   ],
   "source": [
    "joblib.dump(model, \"Model.pkl\")\n",
    "joblib.dump(X.columns, \"Inputs.pkl\")"
   ]
  },
  {
   "cell_type": "code",
   "execution_count": 43,
   "metadata": {},
   "outputs": [
    {
     "data": {
      "text/html": [
       "<div>\n",
       "<style scoped>\n",
       "    .dataframe tbody tr th:only-of-type {\n",
       "        vertical-align: middle;\n",
       "    }\n",
       "\n",
       "    .dataframe tbody tr th {\n",
       "        vertical-align: top;\n",
       "    }\n",
       "\n",
       "    .dataframe thead th {\n",
       "        text-align: right;\n",
       "    }\n",
       "</style>\n",
       "<table border=\"1\" class=\"dataframe\">\n",
       "  <thead>\n",
       "    <tr style=\"text-align: right;\">\n",
       "      <th></th>\n",
       "      <th>Airline</th>\n",
       "      <th>Source</th>\n",
       "      <th>Destination</th>\n",
       "      <th>Duration</th>\n",
       "      <th>Total_Stops</th>\n",
       "      <th>Month</th>\n",
       "      <th>Day_Name</th>\n",
       "    </tr>\n",
       "  </thead>\n",
       "  <tbody>\n",
       "    <tr>\n",
       "      <th>2</th>\n",
       "      <td>Jet Airways</td>\n",
       "      <td>Delhi</td>\n",
       "      <td>Cochin</td>\n",
       "      <td>1140.0</td>\n",
       "      <td>2</td>\n",
       "      <td>June</td>\n",
       "      <td>Sunday</td>\n",
       "    </tr>\n",
       "  </tbody>\n",
       "</table>\n",
       "</div>"
      ],
      "text/plain": [
       "       Airline Source Destination Duration Total_Stops Month Day_Name\n",
       "2  Jet Airways  Delhi      Cochin   1140.0           2  June   Sunday"
      ]
     },
     "execution_count": 43,
     "metadata": {},
     "output_type": "execute_result"
    }
   ],
   "source": [
    "X_sample = pd.DataFrame(X.iloc[2]).T\n",
    "X_sample"
   ]
  },
  {
   "cell_type": "code",
   "execution_count": 44,
   "metadata": {},
   "outputs": [
    {
     "data": {
      "text/plain": [
       "13882.0"
      ]
     },
     "execution_count": 44,
     "metadata": {},
     "output_type": "execute_result"
    }
   ],
   "source": [
    "y.iloc[2]"
   ]
  },
  {
   "cell_type": "code",
   "execution_count": 45,
   "metadata": {},
   "outputs": [
    {
     "data": {
      "text/html": [
       "<div>\n",
       "<style scoped>\n",
       "    .dataframe tbody tr th:only-of-type {\n",
       "        vertical-align: middle;\n",
       "    }\n",
       "\n",
       "    .dataframe tbody tr th {\n",
       "        vertical-align: top;\n",
       "    }\n",
       "\n",
       "    .dataframe thead th {\n",
       "        text-align: right;\n",
       "    }\n",
       "</style>\n",
       "<table border=\"1\" class=\"dataframe\">\n",
       "  <thead>\n",
       "    <tr style=\"text-align: right;\">\n",
       "      <th></th>\n",
       "      <th>Airline</th>\n",
       "      <th>Source</th>\n",
       "      <th>Destination</th>\n",
       "      <th>Duration</th>\n",
       "      <th>Total_Stops</th>\n",
       "      <th>Price</th>\n",
       "      <th>Month</th>\n",
       "      <th>Day_Name</th>\n",
       "    </tr>\n",
       "  </thead>\n",
       "  <tbody>\n",
       "    <tr>\n",
       "      <th>0</th>\n",
       "      <td>IndiGo</td>\n",
       "      <td>Banglore</td>\n",
       "      <td>New Delhi</td>\n",
       "      <td>169.8</td>\n",
       "      <td>0</td>\n",
       "      <td>3897.0</td>\n",
       "      <td>March</td>\n",
       "      <td>Sunday</td>\n",
       "    </tr>\n",
       "    <tr>\n",
       "      <th>1</th>\n",
       "      <td>Air India</td>\n",
       "      <td>Kolkata</td>\n",
       "      <td>Banglore</td>\n",
       "      <td>445.2</td>\n",
       "      <td>2</td>\n",
       "      <td>7662.0</td>\n",
       "      <td>May</td>\n",
       "      <td>Wednesday</td>\n",
       "    </tr>\n",
       "    <tr>\n",
       "      <th>2</th>\n",
       "      <td>Jet Airways</td>\n",
       "      <td>Delhi</td>\n",
       "      <td>Cochin</td>\n",
       "      <td>1140.0</td>\n",
       "      <td>2</td>\n",
       "      <td>13882.0</td>\n",
       "      <td>June</td>\n",
       "      <td>Sunday</td>\n",
       "    </tr>\n",
       "    <tr>\n",
       "      <th>3</th>\n",
       "      <td>IndiGo</td>\n",
       "      <td>Kolkata</td>\n",
       "      <td>Banglore</td>\n",
       "      <td>325.2</td>\n",
       "      <td>1</td>\n",
       "      <td>6218.0</td>\n",
       "      <td>May</td>\n",
       "      <td>Sunday</td>\n",
       "    </tr>\n",
       "    <tr>\n",
       "      <th>4</th>\n",
       "      <td>IndiGo</td>\n",
       "      <td>Banglore</td>\n",
       "      <td>New Delhi</td>\n",
       "      <td>285.0</td>\n",
       "      <td>1</td>\n",
       "      <td>13302.0</td>\n",
       "      <td>March</td>\n",
       "      <td>Friday</td>\n",
       "    </tr>\n",
       "  </tbody>\n",
       "</table>\n",
       "</div>"
      ],
      "text/plain": [
       "       Airline    Source Destination  Duration  Total_Stops    Price  Month  \\\n",
       "0       IndiGo  Banglore   New Delhi     169.8            0   3897.0  March   \n",
       "1    Air India   Kolkata    Banglore     445.2            2   7662.0    May   \n",
       "2  Jet Airways     Delhi      Cochin    1140.0            2  13882.0   June   \n",
       "3       IndiGo   Kolkata    Banglore     325.2            1   6218.0    May   \n",
       "4       IndiGo  Banglore   New Delhi     285.0            1  13302.0  March   \n",
       "\n",
       "    Day_Name  \n",
       "0     Sunday  \n",
       "1  Wednesday  \n",
       "2     Sunday  \n",
       "3     Sunday  \n",
       "4     Friday  "
      ]
     },
     "execution_count": 45,
     "metadata": {},
     "output_type": "execute_result"
    }
   ],
   "source": [
    "df.head()"
   ]
  },
  {
   "cell_type": "code",
   "execution_count": 46,
   "metadata": {},
   "outputs": [
    {
     "data": {
      "text/plain": [
       "12607.05"
      ]
     },
     "execution_count": 46,
     "metadata": {},
     "output_type": "execute_result"
    }
   ],
   "source": [
    "y_pred = model.predict(X_sample)\n",
    "y_pred[0]"
   ]
  },
  {
   "cell_type": "code",
   "execution_count": 47,
   "metadata": {},
   "outputs": [
    {
     "name": "stdout",
     "output_type": "stream",
     "text": [
      "Overwriting app_airline.py\n"
     ]
    }
   ],
   "source": [
    "%%writefile app_airline.py\n",
    "import streamlit as st\n",
    "import pandas as pd\n",
    "import joblib\n",
    "\n",
    "\n",
    "Inputs = joblib.load(\"Inputs.pkl\")\n",
    "Model = joblib.load(\"Model.pkl\")\n",
    "def prediction(Airline, Source, Destination, Duration, Total_Stops, Month, Day_Name):\n",
    "    test_df = pd.DataFrame(columns= Inputs)\n",
    "    test_df.at[0,\"Airline\"] = Airline\n",
    "    test_df.at[0,\"Source\"] = Source\n",
    "    test_df.at[0,\"Destination\"] = Destination\n",
    "    test_df.at[0,\"Duration\"] = Duration\n",
    "    test_df.at[0,\"Total_Stops\"] = Total_Stops\n",
    "    test_df.at[0,\"Month\"] = Month\n",
    "    test_df.at[0,\"Day_Name\"] = Day_Name\n",
    "    result = Model.predict(test_df)[0]\n",
    "    return result\n",
    "\n",
    "def main():\n",
    "    st.title(\"Airline Price\")\n",
    "    Airline = st.selectbox(\"Airline\" , ['IndiGo', 'Air India', 'Jet Airways', 'SpiceJet',\n",
    "       'Multiple carriers', 'GoAir', 'Vistara', 'Air Asia',\n",
    "       'Vistara Premium economy', 'Jet Airways Business',\n",
    "       'Multiple carriers Premium economy', 'Trujet'])\n",
    "    Source = st.selectbox(\"Source\" , ['Banglore', 'Kolkata', 'Delhi', 'Chennai', 'Mumbai'])\n",
    "    Destination = st.selectbox(\"Destination\" , ['New Delhi', 'Banglore', 'Cochin', 'Kolkata', 'Delhi', 'Hyderabad'])\n",
    "    Duration = st.slider(\"Duration\" , min_value= 60 , max_value=5000 , value=0,step=10) \n",
    "    Total_Stops = st.slider(\"Total_Stops\" , min_value= 0 , max_value=5 , value=0,step=1)   \n",
    "    Month = st.selectbox(\"Month\" , ['March', 'May', 'June', 'April'])\n",
    "    Day_Name = st.selectbox(\"Day_Name\" , ['Sunday', 'Wednesday', 'Friday', 'Monday', 'Tuesday', 'Saturday', 'Thursday'])\n",
    "\n",
    "    if st.button(\"predict\"):\n",
    "        result = prediction(Airline, Source, Destination, Duration, Total_Stops, Month, Day_Name)\n",
    "        st.text(f\"The Price will be {result}\")\n",
    "\n",
    "if __name__ == '__main__':\n",
    "    main()"
   ]
  },
  {
   "cell_type": "code",
   "execution_count": 48,
   "metadata": {},
   "outputs": [
    {
     "name": "stdout",
     "output_type": "stream",
     "text": [
      "Requirement already satisfied: pipreqs in c:\\users\\moham\\anaconda3\\envs\\newenv\\lib\\site-packages (0.4.13)\n",
      "Requirement already satisfied: yarg in c:\\users\\moham\\anaconda3\\envs\\newenv\\lib\\site-packages (from pipreqs) (0.1.9)\n",
      "Requirement already satisfied: docopt in c:\\users\\moham\\anaconda3\\envs\\newenv\\lib\\site-packages (from pipreqs) (0.6.2)\n",
      "Requirement already satisfied: requests in c:\\users\\moham\\anaconda3\\envs\\newenv\\lib\\site-packages (from yarg->pipreqs) (2.28.1)\n",
      "Requirement already satisfied: charset-normalizer<3,>=2 in c:\\users\\moham\\anaconda3\\envs\\newenv\\lib\\site-packages (from requests->yarg->pipreqs) (2.0.4)\n",
      "Requirement already satisfied: idna<4,>=2.5 in c:\\users\\moham\\anaconda3\\envs\\newenv\\lib\\site-packages (from requests->yarg->pipreqs) (3.4)\n",
      "Requirement already satisfied: certifi>=2017.4.17 in c:\\users\\moham\\anaconda3\\envs\\newenv\\lib\\site-packages (from requests->yarg->pipreqs) (2023.7.22)\n",
      "Requirement already satisfied: urllib3<1.27,>=1.21.1 in c:\\users\\moham\\anaconda3\\envs\\newenv\\lib\\site-packages (from requests->yarg->pipreqs) (1.26.13)\n"
     ]
    }
   ],
   "source": [
    "!pip install pipreqs"
   ]
  },
  {
   "cell_type": "code",
   "execution_count": 49,
   "metadata": {},
   "outputs": [
    {
     "name": "stderr",
     "output_type": "stream",
     "text": [
      "WARNING: requirements.txt already exists, use --force to overwrite it\n"
     ]
    }
   ],
   "source": [
    "!pipreqs ./"
   ]
  },
  {
   "cell_type": "code",
   "execution_count": 50,
   "metadata": {
    "scrolled": true
   },
   "outputs": [
    {
     "name": "stdout",
     "output_type": "stream",
     "text": [
      "2.6.1\n"
     ]
    }
   ],
   "source": [
    "import category_encoders\n",
    "\n",
    "print(category_encoders.__version__)"
   ]
  },
  {
   "cell_type": "code",
   "execution_count": 51,
   "metadata": {},
   "outputs": [
    {
     "name": "stdout",
     "output_type": "stream",
     "text": [
      "1.2.2\n"
     ]
    }
   ],
   "source": [
    "import sklearn\n",
    "\n",
    "print(sklearn.__version__)"
   ]
  },
  {
   "cell_type": "code",
   "execution_count": null,
   "metadata": {},
   "outputs": [],
   "source": []
  }
 ],
 "metadata": {
  "kernelspec": {
   "display_name": "Python 3 (ipykernel)",
   "language": "python",
   "name": "python3"
  },
  "language_info": {
   "codemirror_mode": {
    "name": "ipython",
    "version": 3
   },
   "file_extension": ".py",
   "mimetype": "text/x-python",
   "name": "python",
   "nbconvert_exporter": "python",
   "pygments_lexer": "ipython3",
   "version": "3.10.8"
  }
 },
 "nbformat": 4,
 "nbformat_minor": 2
}
